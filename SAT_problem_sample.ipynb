{
 "cells": [
  {
   "cell_type": "markdown",
   "id": "344d4887",
   "metadata": {},
   "source": [
    "# Solving a SAT sample"
   ]
  },
  {
   "cell_type": "markdown",
   "id": "8117ed94",
   "metadata": {},
   "source": [
    "## 2-SAT in Conjunctive Normal Form (CNF)\n",
    "\n",
    "**Sample:**\n",
    "\n",
    "$ (x_1  \\lor \\lnot x_2) \\land (\\lnot x_1 \\lor x_2) $"
   ]
  },
  {
   "cell_type": "code",
   "execution_count": 12,
   "id": "4803f949",
   "metadata": {},
   "outputs": [
    {
     "name": "stdout",
     "output_type": "stream",
     "text": [
      "False False --> True\n",
      "False True --> True\n",
      "True False --> False\n",
      "True True --> True\n"
     ]
    }
   ],
   "source": [
    "import itertools\n",
    "\n",
    "def sat(x1,x2):\n",
    "    return (x1 or not x1) and (not x1 or x2)\n",
    "\n",
    "for (x1,x2) in list(itertools.product([False,True],[False,True])):\n",
    "    print(x1,x2,'-->',sat(x1,x2))"
   ]
  },
  {
   "cell_type": "code",
   "execution_count": null,
   "id": "6f63b998",
   "metadata": {},
   "outputs": [],
   "source": []
  }
 ],
 "metadata": {
  "kernelspec": {
   "display_name": "Ocean",
   "language": "python",
   "name": "ocean"
  },
  "language_info": {
   "codemirror_mode": {
    "name": "ipython",
    "version": 3
   },
   "file_extension": ".py",
   "mimetype": "text/x-python",
   "name": "python",
   "nbconvert_exporter": "python",
   "pygments_lexer": "ipython3",
   "version": "3.9.15"
  }
 },
 "nbformat": 4,
 "nbformat_minor": 5
}
