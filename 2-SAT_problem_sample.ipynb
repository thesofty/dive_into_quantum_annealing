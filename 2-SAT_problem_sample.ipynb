{
 "cells": [
  {
   "cell_type": "markdown",
   "id": "344d4887",
   "metadata": {},
   "source": [
    "# Solving a SAT sample"
   ]
  },
  {
   "cell_type": "markdown",
   "id": "8117ed94",
   "metadata": {},
   "source": [
    "## 2-SAT in Conjunctive Normal Form (CNF)\n",
    "\n",
    "Base on the following description:\\\n",
    "https://docs.dwavesys.com/docs/latest/c_gs_5.html\n",
    "\n",
    "**Sample:**\n",
    "\n",
    "$ (x_1  \\lor \\lnot x_2) \\land (\\lnot x_1 \\lor x_2) $"
   ]
  },
  {
   "cell_type": "code",
   "execution_count": 1,
   "id": "4803f949",
   "metadata": {},
   "outputs": [
    {
     "name": "stdout",
     "output_type": "stream",
     "text": [
      "State 1: : False False --> True\n",
      "State 2: : False True --> False\n",
      "State 3: : True False --> False\n",
      "State 4: : True True --> True\n"
     ]
    }
   ],
   "source": [
    "import itertools\n",
    "\n",
    "def sat(x1,x2):\n",
    "    return (x1 or not x2) and (not x1 or x2)\n",
    "i = 1\n",
    "for (x1,x2) in list(itertools.product([False,True],[False,True])):\n",
    "    print(\"State %d:\" % i,\":\", x1,x2,'-->',sat(x1,x2))\n",
    "    i += 1"
   ]
  },
  {
   "cell_type": "markdown",
   "id": "60ddd2c8",
   "metadata": {},
   "source": [
    "## A QUBO with Two Binary Variables\n",
    "\n",
    "**Approach:**\n",
    "\n",
    "$ E(a_1,a_2,b_{1,2};q_1,q_2) = a_1q_1 + a_2q_2 + b_{12}q_1q_2$ \n",
    "\n",
    "$E$ is the energy that has to be minimized on the QPU.\n",
    "\n",
    "States 1 and 2 solve the 2-SAT. Hence, E has to favor these two states over state 2 and state 3\\\n",
    "This can be achieved by penalizing states 2 and 3\n",
    "\n",
    "State 1: $ q_1 = q_2 = 0 \\Rightarrow E(a_1,a_2,b_{1,2},q_i=0) = 0$ This means that $E=0$ should be a global minimum energy state.\n",
    "\n",
    "States 2,3 must lead to energies $ E > 0$\\\n",
    "$\\Rightarrow$ choosing $ a_1=a_2=0.1$\\\n",
    "$E(0.1,0.1,b_{1,2},1,0) = 0.1 + 0 + 0 = 0.1$ and $E(0.1,0.1,b_{1,2},0,1) = 0 + 0.1 + 0 = 0.1$\n",
    "\n",
    "State 4 needs to result in the global minimum $E=0$ as well\\\n",
    "$E(0.1,0.1,b_{1,2},1,1) = 0.1 + 0.1 + b_{1,2}= 0.2 + b_{1,2} \\equiv 0 \\Rightarrow b_{1,2} = -0.2$\n",
    "\n",
    "**Wanted objective function:**\n",
    "\n",
    "$ E(q_1,q_2) = 0.1q_1 + 0.1q_2 - 0.2q_1q_2$ \n"
   ]
  },
  {
   "cell_type": "code",
   "execution_count": 2,
   "id": "8563fe45",
   "metadata": {},
   "outputs": [],
   "source": [
    "import numpy as np\n",
    "import matplotlib.pyplot as plt\n",
    "import networkx as nx\n",
    "\n",
    "\n",
    "def draw_graph(G,colors,pos):\n",
    "    default_axes = plt.axes(frameon=False)\n",
    "    edge_labels = nx.get_edge_attributes(G, \"weight\")\n",
    "    node_labels = nx.get_node_attributes(G, \"weight\")\n",
    "    nx.draw_networkx(G, node_size=300, alpha=0.8, ax=default_axes,node_color=colors, pos=Gpos,labels=node_labels,font_size=8)\n",
    "    \n",
    "#    # node labels\n",
    "#    nx.draw_networkx_labels(G, pos, font_size=5, font_family=\"sans-serif\",labels=node_labels)    \n",
    "#    print(edge_labels)\n",
    "    \n",
    "    nx.draw_networkx_edge_labels(G,pos, edge_labels=edge_labels)\n"
   ]
  },
  {
   "cell_type": "code",
   "execution_count": 3,
   "id": "44d5de40",
   "metadata": {},
   "outputs": [],
   "source": [
    "n = 2\n",
    "#edges = [(0, 1, 1.0), (0, 2, 1.0), (0, 3, 1.0), (1, 2, 1.0), (2, 3, 1.0)]  # (node_i, node_j, weight)\n",
    "edges = [(0,1,-0.2)]"
   ]
  },
  {
   "cell_type": "code",
   "execution_count": 4,
   "id": "b4338532",
   "metadata": {},
   "outputs": [],
   "source": [
    "G = nx.Graph()\n",
    "#G.add_nodes_from(np.arange(0, n, 1))\n",
    "G.add_node(0,weight=0.1)\n",
    "G.add_node(1,weight=0.1)\n",
    "G.add_weighted_edges_from(edges)"
   ]
  },
  {
   "cell_type": "code",
   "execution_count": 5,
   "id": "fd210d42",
   "metadata": {},
   "outputs": [
    {
     "data": {
      "image/png": "[encoded data removed]",
      "text/plain": [
       "<Figure size 640x480 with 1 Axes>"
      ]
     },
     "metadata": {},
     "output_type": "display_data"
    }
   ],
   "source": [
    "colors = [\"r\" for node in G.nodes()]\n",
    "Gpos = nx.spring_layout(G)\n",
    "\n",
    "draw_graph(G,colors,Gpos)"
   ]
  },
  {
   "cell_type": "code",
   "execution_count": 6,
   "id": "caaf8ce7",
   "metadata": {},
   "outputs": [
    {
     "data": {
      "text/plain": [
       "{0: 0.1, 1: 0.1}"
      ]
     },
     "execution_count": 6,
     "metadata": {},
     "output_type": "execute_result"
    }
   ],
   "source": [
    "dict(G.nodes(data='weight', default=1))"
   ]
  },
  {
   "cell_type": "code",
   "execution_count": 7,
   "id": "2df0756e",
   "metadata": {},
   "outputs": [
    {
     "data": {
      "text/plain": [
       "{0: 0.1, 1: 0.1}"
      ]
     },
     "execution_count": 7,
     "metadata": {},
     "output_type": "execute_result"
    }
   ],
   "source": [
    "nx.get_node_attributes(G, \"weight\")"
   ]
  },
  {
   "cell_type": "code",
   "execution_count": 8,
   "id": "c7048568",
   "metadata": {},
   "outputs": [
    {
     "data": {
      "text/plain": [
       "{(0, 1): -0.2}"
      ]
     },
     "execution_count": 8,
     "metadata": {},
     "output_type": "execute_result"
    }
   ],
   "source": [
    "nx.get_edge_attributes(G, \"weight\")"
   ]
  },
  {
   "cell_type": "code",
   "execution_count": null,
   "id": "cdf6bd4c",
   "metadata": {},
   "outputs": [],
   "source": []
  }
 ],
 "metadata": {
  "kernelspec": {
   "display_name": "Ocean",
   "language": "python",
   "name": "ocean"
  },
  "language_info": {
   "codemirror_mode": {
    "name": "ipython",
    "version": 3
   },
   "file_extension": ".py",
   "mimetype": "text/x-python",
   "name": "python",
   "nbconvert_exporter": "python",
   "pygments_lexer": "ipython3",
   "version": "3.9.15"
  }
 },
 "nbformat": 4,
 "nbformat_minor": 5
}
