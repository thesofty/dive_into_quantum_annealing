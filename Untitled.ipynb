{
 "cells": [
  {
   "cell_type": "markdown",
   "id": "c125eb27",
   "metadata": {},
   "source": [
    "QUBO: $ \\mathbf{x}^T \\mathbf{Q}\\mathbf{x} $\n",
    "\n",
    "Max-Cut: $ \\mathbf{x}^T \\mathbf{Q}\\mathbf{\\bar{x}} $"
   ]
  },
  {
   "cell_type": "code",
   "execution_count": null,
   "id": "59f1e2bc",
   "metadata": {},
   "outputs": [],
   "source": []
  }
 ],
 "metadata": {
  "kernelspec": {
   "display_name": "Ocean",
   "language": "python",
   "name": "ocean"
  },
  "language_info": {
   "codemirror_mode": {
    "name": "ipython",
    "version": 3
   },
   "file_extension": ".py",
   "mimetype": "text/x-python",
   "name": "python",
   "nbconvert_exporter": "python",
   "pygments_lexer": "ipython3",
   "version": "3.9.15"
  }
 },
 "nbformat": 4,
 "nbformat_minor": 5
}
