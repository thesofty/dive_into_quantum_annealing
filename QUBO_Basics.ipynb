{
 "cells": [
  {
   "cell_type": "markdown",
   "id": "1e020ac2",
   "metadata": {},
   "source": [
    "# QUBOs\n"
   ]
  },
  {
   "cell_type": "markdown",
   "id": "23075755",
   "metadata": {},
   "source": [
    "## Function Arguments as Array"
   ]
  },
  {
   "cell_type": "code",
   "execution_count": 1,
   "id": "48e38244",
   "metadata": {},
   "outputs": [],
   "source": [
    "def f(x,y):\n",
    "    return x + y"
   ]
  },
  {
   "cell_type": "code",
   "execution_count": 2,
   "id": "ea170d0b",
   "metadata": {},
   "outputs": [
    {
     "data": {
      "text/plain": [
       "3"
      ]
     },
     "execution_count": 2,
     "metadata": {},
     "output_type": "execute_result"
    }
   ],
   "source": [
    "f(1,2)"
   ]
  },
  {
   "cell_type": "code",
   "execution_count": 3,
   "id": "a8b8d74e",
   "metadata": {
    "scrolled": true
   },
   "outputs": [
    {
     "data": {
      "text/plain": [
       "3"
      ]
     },
     "execution_count": 3,
     "metadata": {},
     "output_type": "execute_result"
    }
   ],
   "source": [
    "f(*[1,2])"
   ]
  },
  {
   "cell_type": "markdown",
   "id": "5f1b5df4",
   "metadata": {},
   "source": [
    "## Solving QUBO by Our Own"
   ]
  },
  {
   "cell_type": "code",
   "execution_count": 4,
   "id": "1e02cd04",
   "metadata": {},
   "outputs": [],
   "source": [
    "def myQubo(w,x,y,z):\n",
    "    qubo = 2*x*z - 2*w*x -2*y*z + w + y + 1\n",
    "    return qubo"
   ]
  },
  {
   "cell_type": "code",
   "execution_count": 5,
   "id": "ec406eaf",
   "metadata": {
    "scrolled": true
   },
   "outputs": [
    {
     "name": "stdout",
     "output_type": "stream",
     "text": [
      "[0, 0, 0, 0] 1\n",
      "[0, 0, 0, 1] 1\n",
      "[0, 0, 1, 0] 2\n",
      "[0, 0, 1, 1] 0\n",
      "[0, 1, 0, 0] 1\n",
      "[0, 1, 0, 1] 3\n",
      "[0, 1, 1, 0] 2\n",
      "[0, 1, 1, 1] 2\n",
      "[1, 0, 0, 0] 2\n",
      "[1, 0, 0, 1] 2\n",
      "[1, 0, 1, 0] 3\n",
      "[1, 0, 1, 1] 1\n",
      "[1, 1, 0, 0] 0\n",
      "[1, 1, 0, 1] 2\n",
      "[1, 1, 1, 0] 1\n",
      "[1, 1, 1, 1] 1\n"
     ]
    }
   ],
   "source": [
    "vals = [[0,0,0,0],[0,0,0,1],[0,0,1,0],[0,0,1,1],[0,1,0,0],[0,1,0,1],[0,1,1,0],[0,1,1,1],[1,0,0,0],[1,0,0,1],[1,0,1,0],[1,0,1,1],[1,1,0,0],[1,1,0,1],[1,1,1,0],[1,1,1,1]]\n",
    "\n",
    "for args in vals:\n",
    "    print(args,myQubo(*args))"
   ]
  },
  {
   "cell_type": "markdown",
   "id": "adc2a401",
   "metadata": {},
   "source": [
    "## Solving QUBO by Using Ocean's Exact Solver"
   ]
  },
  {
   "cell_type": "code",
   "execution_count": 6,
   "id": "509123bc",
   "metadata": {},
   "outputs": [],
   "source": [
    "import dimod"
   ]
  },
  {
   "cell_type": "code",
   "execution_count": 7,
   "id": "9c10f586",
   "metadata": {},
   "outputs": [],
   "source": [
    "exactsolver = dimod.ExactSolver()"
   ]
  },
  {
   "cell_type": "code",
   "execution_count": 8,
   "id": "965cd3b2",
   "metadata": {},
   "outputs": [],
   "source": [
    "QMatrix = {(0,0):1,(3,3):1,(0,1):-2,(1,2):2,(2,3):-2}\n",
    "bqm = dimod.BinaryQuadraticModel.from_qubo(QMatrix,offset = 1.0)\n",
    "results = exactsolver.sample(bqm)"
   ]
  },
  {
   "cell_type": "code",
   "execution_count": 9,
   "id": "a759393f",
   "metadata": {},
   "outputs": [
    {
     "data": {
      "text/plain": [
       "SampleSet(rec.array([([0, 0, 0, 0], 1., 1), ([1, 0, 0, 0], 2., 1),\n",
       "           ([1, 0, 0, 1], 3., 1), ([0, 0, 0, 1], 2., 1),\n",
       "           ([0, 1, 0, 1], 2., 1), ([1, 1, 0, 1], 1., 1),\n",
       "           ([1, 1, 0, 0], 0., 1), ([0, 1, 0, 0], 1., 1),\n",
       "           ([0, 1, 1, 0], 3., 1), ([1, 1, 1, 0], 2., 1),\n",
       "           ([1, 1, 1, 1], 1., 1), ([0, 1, 1, 1], 2., 1),\n",
       "           ([0, 0, 1, 1], 0., 1), ([1, 0, 1, 1], 1., 1),\n",
       "           ([1, 0, 1, 0], 2., 1), ([0, 0, 1, 0], 1., 1)],\n",
       "          dtype=[('sample', 'i1', (4,)), ('energy', '<f8'), ('num_occurrences', '<i8')]), Variables([0, 1, 2, 3]), {}, 'BINARY')"
      ]
     },
     "execution_count": 9,
     "metadata": {},
     "output_type": "execute_result"
    }
   ],
   "source": [
    "results"
   ]
  },
  {
   "cell_type": "code",
   "execution_count": 10,
   "id": "b93d0878",
   "metadata": {
    "scrolled": true
   },
   "outputs": [
    {
     "name": "stdout",
     "output_type": "stream",
     "text": [
      "{0: 1, 1: 1, 2: 0, 3: 0} 0.0\n",
      "{0: 0, 1: 0, 2: 1, 3: 1} 0.0\n",
      "{0: 0, 1: 0, 2: 0, 3: 0} 1.0\n",
      "{0: 1, 1: 1, 2: 0, 3: 1} 1.0\n",
      "{0: 0, 1: 1, 2: 0, 3: 0} 1.0\n",
      "{0: 1, 1: 1, 2: 1, 3: 1} 1.0\n",
      "{0: 1, 1: 0, 2: 1, 3: 1} 1.0\n",
      "{0: 0, 1: 0, 2: 1, 3: 0} 1.0\n",
      "{0: 1, 1: 0, 2: 0, 3: 0} 2.0\n",
      "{0: 0, 1: 0, 2: 0, 3: 1} 2.0\n",
      "{0: 0, 1: 1, 2: 0, 3: 1} 2.0\n",
      "{0: 1, 1: 1, 2: 1, 3: 0} 2.0\n",
      "{0: 0, 1: 1, 2: 1, 3: 1} 2.0\n",
      "{0: 1, 1: 0, 2: 1, 3: 0} 2.0\n",
      "{0: 1, 1: 0, 2: 0, 3: 1} 3.0\n",
      "{0: 0, 1: 1, 2: 1, 3: 0} 3.0\n"
     ]
    }
   ],
   "source": [
    "for sample,energy in results.data(['sample','energy']):\n",
    "    print(sample,energy)"
   ]
  },
  {
   "cell_type": "markdown",
   "id": "2c5dd38a",
   "metadata": {},
   "source": [
    "# Sample: One-Hot Problem\n"
   ]
  },
  {
   "cell_type": "code",
   "execution_count": 11,
   "id": "67192e98",
   "metadata": {},
   "outputs": [],
   "source": [
    "ohMatrix = {(0,0):-1,(1,1):-1,(2,2):-1,(0,1):2,(0,2):2,(1,2):2}"
   ]
  },
  {
   "cell_type": "code",
   "execution_count": 12,
   "id": "4337aa93",
   "metadata": {},
   "outputs": [],
   "source": [
    "bqm = dimod.BinaryQuadraticModel.from_qubo(ohMatrix,offset = 1.0)\n",
    "results = exactsolver.sample(bqm)"
   ]
  },
  {
   "cell_type": "code",
   "execution_count": 13,
   "id": "995d0291",
   "metadata": {},
   "outputs": [
    {
     "data": {
      "text/plain": [
       "SampleSet(rec.array([([0, 0, 0], 1., 1), ([1, 0, 0], 0., 1), ([1, 1, 0], 1., 1),\n",
       "           ([0, 1, 0], 0., 1), ([0, 1, 1], 1., 1), ([1, 1, 1], 4., 1),\n",
       "           ([1, 0, 1], 1., 1), ([0, 0, 1], 0., 1)],\n",
       "          dtype=[('sample', 'i1', (3,)), ('energy', '<f8'), ('num_occurrences', '<i8')]), Variables([0, 1, 2]), {}, 'BINARY')"
      ]
     },
     "execution_count": 13,
     "metadata": {},
     "output_type": "execute_result"
    }
   ],
   "source": [
    "results"
   ]
  },
  {
   "cell_type": "code",
   "execution_count": 14,
   "id": "3c90345c",
   "metadata": {},
   "outputs": [
    {
     "name": "stdout",
     "output_type": "stream",
     "text": [
      "{0: 1, 1: 0, 2: 0} 0.0\n",
      "{0: 0, 1: 1, 2: 0} 0.0\n",
      "{0: 0, 1: 0, 2: 1} 0.0\n",
      "{0: 0, 1: 0, 2: 0} 1.0\n",
      "{0: 1, 1: 1, 2: 0} 1.0\n",
      "{0: 0, 1: 1, 2: 1} 1.0\n",
      "{0: 1, 1: 0, 2: 1} 1.0\n",
      "{0: 1, 1: 1, 2: 1} 4.0\n"
     ]
    }
   ],
   "source": [
    "for sample,energy in results.data(['sample','energy']):\n",
    "    print(sample,energy)"
   ]
  },
  {
   "cell_type": "markdown",
   "id": "5028d184",
   "metadata": {},
   "source": [
    "# Select Boxes with Minimal Sum"
   ]
  },
  {
   "cell_type": "markdown",
   "id": "6b01fce4",
   "metadata": {},
   "source": [
    "Minimize the sum of the slected boxes by choosing exactly two boxes\n",
    "\n",
    "- $ box_1: 17 $\n",
    "- $ box_2: 21 $\n",
    "- $ box_3: 19 $\n",
    "\n",
    "\n",
    "$ x_i=   \\left\\{\n",
    "\\begin{array}{lr}\n",
    "      1 & box_i \\\\\n",
    "      0 & \\lnot box_i \\\\\n",
    "\\end{array} \n",
    "\\right.  $\n",
    "\n",
    "$ obj = 17x_1 + 21x_2 + 19x_3 $\n",
    "\n",
    "constraint: $ x_1 + x_2 + x_3 = 2 $\n",
    "\n",
    "constraint as $ QUBO_c: (x_1 + x_2 + x_3 - 2)^2 = 0 $\n",
    "\n",
    "$ \\min(17x_1 + 21x_2 + 19x_3 + \\lambda(x_1 + x_2 + x_3 - 2)^2) $"
   ]
  },
  {
   "cell_type": "code",
   "execution_count": 15,
   "id": "ba60ae38",
   "metadata": {},
   "outputs": [
    {
     "name": "stdout",
     "output_type": "stream",
     "text": [
      "{(0, 0): -103, (1, 1): -99, (2, 2): -101, (0, 1): 80, (0, 2): 80, (1, 2): 80}\n"
     ]
    }
   ],
   "source": [
    "lmbda = 40\n",
    "twoboxMatrix = {(0,0):17-3*lmbda,(1,1):21-3*lmbda,(2,2):19-3*lmbda,(0,1):2*lmbda,(0,2):2*lmbda,(1,2):2*lmbda}\n",
    "print(twoboxMatrix)"
   ]
  },
  {
   "cell_type": "code",
   "execution_count": 16,
   "id": "ad72c5ab",
   "metadata": {},
   "outputs": [],
   "source": [
    "bqm = dimod.BinaryQuadraticModel.from_qubo(twoboxMatrix,offset = 4*lmbda)\n",
    "results = exactsolver.sample(bqm)"
   ]
  },
  {
   "cell_type": "code",
   "execution_count": 17,
   "id": "c35c636a",
   "metadata": {},
   "outputs": [
    {
     "data": {
      "text/plain": [
       "SampleSet(rec.array([([0, 0, 0], 160., 1), ([1, 0, 0],  57., 1),\n",
       "           ([1, 1, 0],  38., 1), ([0, 1, 0],  61., 1),\n",
       "           ([0, 1, 1],  40., 1), ([1, 1, 1],  97., 1),\n",
       "           ([1, 0, 1],  36., 1), ([0, 0, 1],  59., 1)],\n",
       "          dtype=[('sample', 'i1', (3,)), ('energy', '<f8'), ('num_occurrences', '<i8')]), Variables([0, 1, 2]), {}, 'BINARY')"
      ]
     },
     "execution_count": 17,
     "metadata": {},
     "output_type": "execute_result"
    }
   ],
   "source": [
    "results"
   ]
  },
  {
   "cell_type": "code",
   "execution_count": 18,
   "id": "378dbeb6",
   "metadata": {},
   "outputs": [
    {
     "name": "stdout",
     "output_type": "stream",
     "text": [
      "{0: 1, 1: 0, 2: 1} 36.0\n",
      "{0: 1, 1: 1, 2: 0} 38.0\n",
      "{0: 0, 1: 1, 2: 1} 40.0\n",
      "{0: 1, 1: 0, 2: 0} 57.0\n",
      "{0: 0, 1: 0, 2: 1} 59.0\n",
      "{0: 0, 1: 1, 2: 0} 61.0\n",
      "{0: 1, 1: 1, 2: 1} 97.0\n",
      "{0: 0, 1: 0, 2: 0} 160.0\n"
     ]
    }
   ],
   "source": [
    "for sample,energy in results.data(['sample','energy']):\n",
    "    print(sample,energy)"
   ]
  },
  {
   "cell_type": "code",
   "execution_count": null,
   "id": "589be637",
   "metadata": {},
   "outputs": [],
   "source": []
  }
 ],
 "metadata": {
  "kernelspec": {
   "display_name": "Ocean",
   "language": "python",
   "name": "ocean"
  },
  "language_info": {
   "codemirror_mode": {
    "name": "ipython",
    "version": 3
   },
   "file_extension": ".py",
   "mimetype": "text/x-python",
   "name": "python",
   "nbconvert_exporter": "python",
   "pygments_lexer": "ipython3",
   "version": "3.9.15"
  }
 },
 "nbformat": 4,
 "nbformat_minor": 5
}
