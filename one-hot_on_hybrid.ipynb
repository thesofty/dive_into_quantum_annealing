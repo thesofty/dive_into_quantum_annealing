{
 "cells": [
  {
   "cell_type": "markdown",
   "id": "f732266c",
   "metadata": {},
   "source": [
    "# One-Hot-Problem"
   ]
  },
  {
   "cell_type": "code",
   "execution_count": 1,
   "id": "eaf113b4",
   "metadata": {},
   "outputs": [],
   "source": [
    "import dimod\n",
    "from dwave.system import LeapHybridSampler"
   ]
  },
  {
   "cell_type": "markdown",
   "id": "13e50fca",
   "metadata": {},
   "source": [
    "## QUBO Formulation as Matrix"
   ]
  },
  {
   "cell_type": "code",
   "execution_count": 2,
   "id": "6112c12d",
   "metadata": {},
   "outputs": [],
   "source": [
    "ohMatrix = {(0,0):-1,(1,1):-1,(2,2):-1,(0,1):2,(0,2):2,(1,2):2}"
   ]
  },
  {
   "cell_type": "code",
   "execution_count": 3,
   "id": "5d9b8e98",
   "metadata": {},
   "outputs": [
    {
     "data": {
      "text/plain": [
       "BinaryQuadraticModel({0: -1.0, 1: -1.0, 2: -1.0}, {(1, 0): 2.0, (2, 0): 2.0, (2, 1): 2.0}, 1.0, 'BINARY')"
      ]
     },
     "execution_count": 3,
     "metadata": {},
     "output_type": "execute_result"
    }
   ],
   "source": [
    "bqm = dimod.BinaryQuadraticModel.from_qubo(ohMatrix,offset = 1.0)\n",
    "bqm"
   ]
  },
  {
   "cell_type": "markdown",
   "id": "2e84e97c",
   "metadata": {},
   "source": [
    "## Exact Solver"
   ]
  },
  {
   "cell_type": "code",
   "execution_count": 4,
   "id": "f469eef3",
   "metadata": {},
   "outputs": [
    {
     "data": {
      "text/plain": [
       "SampleSet(rec.array([([0, 0, 0], 1., 1), ([1, 0, 0], 0., 1), ([1, 1, 0], 1., 1),\n",
       "           ([0, 1, 0], 0., 1), ([0, 1, 1], 1., 1), ([1, 1, 1], 4., 1),\n",
       "           ([1, 0, 1], 1., 1), ([0, 0, 1], 0., 1)],\n",
       "          dtype=[('sample', 'i1', (3,)), ('energy', '<f8'), ('num_occurrences', '<i8')]), Variables([0, 1, 2]), {}, 'BINARY')"
      ]
     },
     "execution_count": 4,
     "metadata": {},
     "output_type": "execute_result"
    }
   ],
   "source": [
    "exactsolver = dimod.ExactSolver()\n",
    "results = exactsolver.sample(bqm)\n",
    "results"
   ]
  },
  {
   "cell_type": "code",
   "execution_count": 5,
   "id": "047bf18b",
   "metadata": {},
   "outputs": [
    {
     "name": "stdout",
     "output_type": "stream",
     "text": [
      "{0: 1, 1: 0, 2: 0} 0.0\n",
      "{0: 0, 1: 1, 2: 0} 0.0\n",
      "{0: 0, 1: 0, 2: 1} 0.0\n",
      "{0: 0, 1: 0, 2: 0} 1.0\n",
      "{0: 1, 1: 1, 2: 0} 1.0\n",
      "{0: 0, 1: 1, 2: 1} 1.0\n",
      "{0: 1, 1: 0, 2: 1} 1.0\n",
      "{0: 1, 1: 1, 2: 1} 4.0\n"
     ]
    }
   ],
   "source": [
    "for sample,energy in results.data(['sample','energy']):\n",
    "    print(sample,energy)"
   ]
  },
  {
   "cell_type": "markdown",
   "id": "17af25de",
   "metadata": {},
   "source": [
    "## Hybrid Solver"
   ]
  },
  {
   "cell_type": "code",
   "execution_count": 6,
   "id": "d5a304f5",
   "metadata": {},
   "outputs": [],
   "source": [
    "sampler = LeapHybridSampler()"
   ]
  },
  {
   "cell_type": "code",
   "execution_count": 7,
   "id": "d01b7147",
   "metadata": {},
   "outputs": [
    {
     "data": {
      "text/plain": [
       "SampleSet(rec.array([([1, 0, 0], 0., 1)],\n",
       "          dtype=[('sample', 'i1', (3,)), ('energy', '<f8'), ('num_occurrences', '<i8')]), Variables([0, 1, 2]), {'qpu_access_time': 63734, 'charge_time': 2996916, 'run_time': 2996916, 'problem_id': '2208d6fe-2fc6-453e-8e1e-3a62d8f017b1', 'problem_label': 'one-hot-sample'}, 'BINARY')"
      ]
     },
     "execution_count": 7,
     "metadata": {},
     "output_type": "execute_result"
    }
   ],
   "source": [
    "results = sampler.sample(bqm,label='one-hot-sample')\n",
    "results"
   ]
  },
  {
   "cell_type": "code",
   "execution_count": 8,
   "id": "bd6dfe20",
   "metadata": {},
   "outputs": [
    {
     "name": "stdout",
     "output_type": "stream",
     "text": [
      "{0: 1, 1: 0, 2: 0} 0.0\n"
     ]
    }
   ],
   "source": [
    "for sample,energy in results.data(['sample','energy']):\n",
    "    print(sample,energy)"
   ]
  },
  {
   "cell_type": "code",
   "execution_count": null,
   "id": "c8089e61",
   "metadata": {},
   "outputs": [],
   "source": []
  }
 ],
 "metadata": {
  "kernelspec": {
   "display_name": "Ocean",
   "language": "python",
   "name": "ocean"
  },
  "language_info": {
   "codemirror_mode": {
    "name": "ipython",
    "version": 3
   },
   "file_extension": ".py",
   "mimetype": "text/x-python",
   "name": "python",
   "nbconvert_exporter": "python",
   "pygments_lexer": "ipython3",
   "version": "3.9.15"
  }
 },
 "nbformat": 4,
 "nbformat_minor": 5
}
