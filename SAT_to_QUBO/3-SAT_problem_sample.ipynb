{
 "cells": [
  {
   "cell_type": "markdown",
   "id": "344d4887",
   "metadata": {},
   "source": [
    "# Solving a SAT sample"
   ]
  },
  {
   "cell_type": "markdown",
   "id": "8117ed94",
   "metadata": {},
   "source": [
    "## 3-SAT in Disjunctive Normal Form (DNF)\n",
    "\n",
    "Base on the following description:\\\n",
    "https://docs.dwavesys.com/docs/latest/c_gs_5.html\n",
    "\n",
    "**Sample:**\n",
    "\n",
    "$ (x_1  \\land \\lnot x_2 \\land \\lnot x_3) \\lor (\\lnot x_1 \\land x_2 \\land \\lnot x_3) \\lor (\\lnot x_1 \\land \\lnot x_2 \\land x_3) $"
   ]
  },
  {
   "cell_type": "code",
   "execution_count": 1,
   "id": "4803f949",
   "metadata": {
    "scrolled": false
   },
   "outputs": [
    {
     "name": "stdout",
     "output_type": "stream",
     "text": [
      "State 1: : False False False --> False\n",
      "State 2: : False False True --> True\n",
      "State 3: : False True False --> True\n",
      "State 4: : False True True --> False\n",
      "State 5: : True False False --> True\n",
      "State 6: : True False True --> False\n",
      "State 7: : True True False --> False\n",
      "State 8: : True True True --> False\n"
     ]
    }
   ],
   "source": [
    "import itertools\n",
    "\n",
    "def sat(x1,x2,x3):\n",
    "    return (x1 and not x2 and not x3) or (not x1 and x2 and not x3) or (not x1 and not x2 and x3)\n",
    "i = 1\n",
    "for (x1,x2,x3) in list(itertools.product([False,True],[False,True],[False,True])):\n",
    "    print(\"State %d:\" % i,\":\", x1,x2,x3,'-->',sat(x1,x2,x3))\n",
    "    i += 1"
   ]
  },
  {
   "cell_type": "markdown",
   "id": "7e24700b",
   "metadata": {},
   "source": [
    "## Formulating Problem as Constraint\n",
    "### Constraint Satisfaction Problem (CSP)\n",
    "$x_1 + x_2 + x_3 = 1 $"
   ]
  },
  {
   "cell_type": "markdown",
   "id": "60ddd2c8",
   "metadata": {},
   "source": [
    "## Formulating as QUBO as Squared Constraint with Three Binary Variables\n",
    "\n",
    "\n",
    "$ \\min{E(q_1,q_2,q_3) = (q_1 + q_2 + q_3 - 1)^2}$ \n",
    "\n",
    "$E$ is the energy that has to be minimized on the QPU.\n",
    "\n",
    "$ E(q_1,q_2,q_3) = q_1^2 + q_2^2 + q_3^2 + 2q_1q_2 + 2q_1q_3 + 2q_2q_3 - 2q_1 - 2q_2 - 2q_3 + 1$\n",
    "\n",
    "with $q_i^2 = q_i$\n",
    "\n",
    "$ E(q_1,q_2,q_3) = 2q_1q_2 + 2q_1q_3 + 2q_2q_3 - q_1 - q_2 - q_3 + 1$\n"
   ]
  },
  {
   "cell_type": "code",
   "execution_count": 2,
   "id": "f40f1b93",
   "metadata": {},
   "outputs": [
    {
     "name": "stdout",
     "output_type": "stream",
     "text": [
      "energy 1: : False False False --> 1\n",
      "energy 2: : False False True --> 0\n",
      "energy 3: : False True False --> 0\n",
      "energy 4: : False True True --> 1\n",
      "energy 5: : True False False --> 0\n",
      "energy 6: : True False True --> 1\n",
      "energy 7: : True True False --> 1\n",
      "energy 8: : True True True --> 4\n"
     ]
    }
   ],
   "source": [
    "def E(x1,x2,x3):\n",
    "    return 2*x1*x2 + 2*x1*x3 + 2*x2*x3 - x1 - x2 -x3 + 1\n",
    "i = 1\n",
    "for (x1,x2,x3) in list(itertools.product([False,True],[False,True],[False,True])):\n",
    "    print(\"energy %d:\" % i,\":\", x1,x2,x3,'-->',E(x1,x2,x3))\n",
    "    i += 1"
   ]
  },
  {
   "cell_type": "markdown",
   "id": "acb86862",
   "metadata": {},
   "source": [
    "## Problem as Graph"
   ]
  },
  {
   "cell_type": "code",
   "execution_count": 3,
   "id": "8563fe45",
   "metadata": {},
   "outputs": [],
   "source": [
    "import numpy as np\n",
    "import matplotlib.pyplot as plt\n",
    "import networkx as nx\n",
    "\n",
    "\n",
    "def draw_graph(G,colors,pos):\n",
    "    default_axes = plt.axes(frameon=False)\n",
    "    edge_labels = nx.get_edge_attributes(G, \"weight\")\n",
    "    node_labels = nx.get_node_attributes(G, \"weight\")\n",
    "    nx.draw_networkx(G, node_size=300, alpha=0.8, ax=default_axes,node_color=colors, pos=Gpos,labels=node_labels,font_size=8)\n",
    "    \n",
    "#    # node labels\n",
    "#    nx.draw_networkx_labels(G, pos, font_size=5, font_family=\"sans-serif\",labels=node_labels)    \n",
    "#    print(edge_labels)\n",
    "    \n",
    "    nx.draw_networkx_edge_labels(G,pos, edge_labels=edge_labels)\n"
   ]
  },
  {
   "cell_type": "code",
   "execution_count": 4,
   "id": "44d5de40",
   "metadata": {},
   "outputs": [],
   "source": [
    "n = 3\n",
    "#edges = [(0, 1, 1.0), (0, 2, 1.0), (0, 3, 1.0), (1, 2, 1.0), (2, 3, 1.0)]  # (node_i, node_j, weight)\n",
    "edges = [(0,1,2),(0,2,2),(1,2,2)]"
   ]
  },
  {
   "cell_type": "code",
   "execution_count": 5,
   "id": "b4338532",
   "metadata": {},
   "outputs": [],
   "source": [
    "G = nx.Graph()\n",
    "#G.add_nodes_from(np.arange(0, n, 1))\n",
    "G.add_node(0,weight=-1)\n",
    "G.add_node(1,weight=-1)\n",
    "G.add_node(2,weight=-1)\n",
    "G.add_weighted_edges_from(edges)"
   ]
  },
  {
   "cell_type": "code",
   "execution_count": 6,
   "id": "fd210d42",
   "metadata": {
    "scrolled": false
   },
   "outputs": [
    {
     "data": {
      "image/png": "[encoded data removed]",
      "text/plain": [
       "<Figure size 640x480 with 1 Axes>"
      ]
     },
     "metadata": {},
     "output_type": "display_data"
    }
   ],
   "source": [
    "colors = [\"r\" for node in G.nodes()]\n",
    "Gpos = nx.spring_layout(G)\n",
    "\n",
    "draw_graph(G,colors,Gpos)"
   ]
  },
  {
   "cell_type": "markdown",
   "id": "6710b383",
   "metadata": {},
   "source": [
    "Here, the energy function is transformed to \\\n",
    "$ E(q_1,q_2,q_3) = 2q_1q_2 + 2q_1q_3 + 2q_2q_3 - q_1 - q_2 - q_3$\n",
    "\n",
    "This is an Energy shift $ E \\rightarrow E - 1$. But constants have no influence on a minimizing problem."
   ]
  },
  {
   "cell_type": "code",
   "execution_count": 7,
   "id": "caaf8ce7",
   "metadata": {},
   "outputs": [
    {
     "data": {
      "text/plain": [
       "{0: -1, 1: -1, 2: -1}"
      ]
     },
     "execution_count": 7,
     "metadata": {},
     "output_type": "execute_result"
    }
   ],
   "source": [
    "dict(G.nodes(data='weight', default=1))"
   ]
  },
  {
   "cell_type": "code",
   "execution_count": 8,
   "id": "2df0756e",
   "metadata": {},
   "outputs": [
    {
     "data": {
      "text/plain": [
       "{0: -1, 1: -1, 2: -1}"
      ]
     },
     "execution_count": 8,
     "metadata": {},
     "output_type": "execute_result"
    }
   ],
   "source": [
    "nx.get_node_attributes(G, \"weight\")"
   ]
  },
  {
   "cell_type": "code",
   "execution_count": 9,
   "id": "c7048568",
   "metadata": {},
   "outputs": [
    {
     "data": {
      "text/plain": [
       "{(0, 1): 2, (0, 2): 2, (1, 2): 2}"
      ]
     },
     "execution_count": 9,
     "metadata": {},
     "output_type": "execute_result"
    }
   ],
   "source": [
    "nx.get_edge_attributes(G, \"weight\")"
   ]
  },
  {
   "cell_type": "markdown",
   "id": "5ea1f576",
   "metadata": {},
   "source": [
    "## QUBO Matrix"
   ]
  },
  {
   "cell_type": "code",
   "execution_count": 10,
   "id": "1b8c7811",
   "metadata": {},
   "outputs": [],
   "source": [
    "import dimod\n",
    "\n",
    "exactsolver = dimod.ExactSolver()\n",
    "sasolver = dimod.SimulatedAnnealingSampler()\n"
   ]
  },
  {
   "cell_type": "markdown",
   "id": "7aac97dc",
   "metadata": {},
   "source": [
    "$$ Q =\n",
    "\\left(\\begin{array}{ccc} \n",
    "-1 & 2 & 2\\\\\n",
    "0 & -1 & 2\\\\\n",
    "0 & 0 & -1\\\\\n",
    "\\end{array}\\right)\n",
    "$$ "
   ]
  },
  {
   "cell_type": "code",
   "execution_count": 11,
   "id": "e604fe3d",
   "metadata": {},
   "outputs": [],
   "source": [
    "Q = {('0', '1'): 2,('0', '2'): 2,('1', '2'): 2,('0', '0'): -1,('1', '1'): -1,('2', '2'): -1}"
   ]
  },
  {
   "cell_type": "markdown",
   "id": "2e2ed2bb",
   "metadata": {},
   "source": [
    "## Solving QUBO"
   ]
  },
  {
   "cell_type": "code",
   "execution_count": 12,
   "id": "463051ef",
   "metadata": {},
   "outputs": [],
   "source": [
    "import dimod\n",
    "\n",
    "exactsolver = dimod.ExactSolver()\n",
    "sasolver = dimod.SimulatedAnnealingSampler()\n",
    "\n",
    "sampleset = exactsolver.sample_qubo(Q)\n",
    "#sampleset = sasolver.sample_qubo(Q,num_reads=30,num_sweeps=2000)"
   ]
  },
  {
   "cell_type": "code",
   "execution_count": 13,
   "id": "0ea64459",
   "metadata": {},
   "outputs": [
    {
     "name": "stdout",
     "output_type": "stream",
     "text": [
      "   0  1  2 energy num_oc.\n",
      "1  1  0  0   -1.0       1\n",
      "3  0  1  0   -1.0       1\n",
      "7  0  0  1   -1.0       1\n",
      "0  0  0  0    0.0       1\n",
      "2  1  1  0    0.0       1\n",
      "4  0  1  1    0.0       1\n",
      "6  1  0  1    0.0       1\n",
      "5  1  1  1    3.0       1\n",
      "['BINARY', 8 rows, 8 samples, 3 variables]\n"
     ]
    }
   ],
   "source": [
    "print(sampleset)"
   ]
  },
  {
   "cell_type": "code",
   "execution_count": 14,
   "id": "796f95bc",
   "metadata": {},
   "outputs": [
    {
     "data": {
      "text/plain": [
       "SampleSet(rec.array([([0, 0, 0],  0., 1), ([1, 0, 0], -1., 1), ([1, 1, 0],  0., 1),\n",
       "           ([0, 1, 0], -1., 1), ([0, 1, 1],  0., 1), ([1, 1, 1],  3., 1),\n",
       "           ([1, 0, 1],  0., 1), ([0, 0, 1], -1., 1)],\n",
       "          dtype=[('sample', 'i1', (3,)), ('energy', '<f8'), ('num_occurrences', '<i8')]), Variables(['0', '1', '2']), {}, 'BINARY')"
      ]
     },
     "execution_count": 14,
     "metadata": {},
     "output_type": "execute_result"
    }
   ],
   "source": [
    "sampleset"
   ]
  },
  {
   "cell_type": "code",
   "execution_count": null,
   "id": "59a78c5a",
   "metadata": {},
   "outputs": [],
   "source": []
  }
 ],
 "metadata": {
  "kernelspec": {
   "display_name": "Ocean",
   "language": "python",
   "name": "ocean"
  },
  "language_info": {
   "codemirror_mode": {
    "name": "ipython",
    "version": 3
   },
   "file_extension": ".py",
   "mimetype": "text/x-python",
   "name": "python",
   "nbconvert_exporter": "python",
   "pygments_lexer": "ipython3",
   "version": "3.9.15"
  }
 },
 "nbformat": 4,
 "nbformat_minor": 5
}
