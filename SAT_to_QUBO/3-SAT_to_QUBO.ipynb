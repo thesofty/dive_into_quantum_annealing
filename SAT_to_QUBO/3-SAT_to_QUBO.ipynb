{
 "cells": [
  {
   "cell_type": "markdown",
   "id": "7ecd06dc",
   "metadata": {},
   "source": [
    "# 3-SAT to QUBO\n",
    "\n",
    "Just focussing on typical 3-SAT-problems in the conjunctive normal form (CNF), particulary 3CNF.\n",
    "\n",
    "Boolean variable: $ x \\in \\{0,1\\} $\n",
    "\n",
    "Literal l: $ x or \\bar x $\n",
    "\n",
    "Representation of not: $ \\bar x = 1 - x $\n",
    "\n",
    "\n",
    "Clause: $ C_i = l_{i1} \\lor l_{i2} \\lor l_{i3} $\n",
    "\n",
    "Boolean Formula: $ \\phi = \\bigwedge\\limits_{i=1}^m C_i $\n",
    "\n",
    "$ \\Rightarrow $ 3m literals $l_{ij}$ are filled by n variables $x_1,...,x_n$ and their negations.\n",
    "\n",
    "With boolean vector: $x = [x_1,...,x_n] \\in \\{0,1\\}^n$\n",
    "$ \\Rightarrow CNF(x) = \\bigwedge\\limits_{i=1}^m (l_{i1} \\lor l_{i2} \\lor l_{i3})$;\n",
    "$m,n \\in \\mathbb{N} $; $l_{ij} \\in \\{x_1,...,x_n,\\bar{x}_1,...,\\bar{x}_n\\}$"
   ]
  },
  {
   "cell_type": "markdown",
   "id": "dc18e8fc",
   "metadata": {},
   "source": [
    "## Maximum 3-SAT Problem \n",
    "\n",
    "Find a combination of bits that maximizes the number of clauses being satisfied.\n",
    "\n",
    "With $\\bigwedge\\limits_{i=1}^m \\rightarrow \\sum\\limits_{i=1}^m$ \\\n",
    "formulate as objective function: \\\n",
    "$ \\phi(x) = \\sum\\limits_{i=1}^m (l_{i1} \\lor l_{i2} \\lor l_{i3})$;\n",
    "$l_{ij} \\in \\{x_1,...,x_n,\\bar{x}_1,...,\\bar{x}_n\\}$\n",
    "\n",
    "Formulation of the Problem: $\\max\\limits_{x \\in \\{0,1\\}^n}{\\phi(x)}$\n"
   ]
  },
  {
   "cell_type": "markdown",
   "id": "b6dcacb5",
   "metadata": {},
   "source": [
    "## Formulate as Qubic Optimization Problem\n",
    "\n",
    "Transform\n",
    "$C_i = (l_{i1} \\lor l_{i2} \\lor l_{i3})$\n",
    "into a qubic expression:\n",
    "\n",
    "$C_i = l_{i1} + l_{i2} + l_{i3} - l_{i1}l_{i2} - l_{i1}l_{i3} - l_{i2}l_{i3} + l_{i1}l_{i2}l_{i3}$\n",
    "\n",
    "\n",
    "$\n",
    " C_i =\n",
    "  \\begin{cases} \n",
    "      \\hfill 1    \\hfill & \\text{ if at least one literal is 1} \\\\\n",
    "      \\hfill 0 \\hfill & \\text{ if all literals are 0} \\\\\n",
    "  \\end{cases}\n",
    "$"
   ]
  },
  {
   "cell_type": "markdown",
   "id": "2473eec2",
   "metadata": {},
   "source": [
    "$\\phi(x) = \\sum\\limits_{i=1}^m C_i$; $\\max\\limits_{x \\in \\{0,1\\}^n}{\\phi(x)}$"
   ]
  },
  {
   "cell_type": "markdown",
   "id": "4bcab0bf",
   "metadata": {},
   "source": [
    "## From Qubic to Quadratic\n",
    "\n",
    "Using slack variables $w_i$:\n",
    "\n",
    "$l_{i1}l_{i2}l_{i3} = \\max\\limits_{w_i \\in \\{0,1\\}}{w_i(l_{i1} + l_{i2} + l_{i3} -2)}$\n",
    "\n",
    "$\\Rightarrow C_i = (1+w_i)(l_{i1} + l_{i2} + l_{i3}) - l_{i1}l_{i2} - l_{i1}l_{i3} - l_{i2}l_{i3} - 2w_i$\n",
    "\n",
    "For **each** $x \\in \\{0,1\\}^n$\n",
    "$\\Rightarrow \\phi(x) =\\max\\limits_{w \\in \\{0,1\\}^m}{\\sum\\limits_{i=1}^m ((1+w_i)(l_{i1} + l_{i2} + l_{i3}) - l_{i1}l_{i2} - l_{i1}l_{i3} - l_{i2}l_{i3} - 2w_i)}$\n",
    "\n",
    "and: $\\max\\limits_{x \\in \\{0,1\\}^n}{\\phi(x)}$\n",
    "\n",
    "\n",
    "### QUBO-Formulation\n",
    "\n",
    "$\\phi(x) \\rightarrow \\phi(x,w) = \\phi(z)$ with $ z = [x,w] \\in \\{0,1\\}^{n+m}$\n",
    "\n",
    "$\\max\\limits_{z \\in \\{0,1\\}^{n+m}}{\\phi(z)}$ or $\\max\\limits_{z \\in \\{0,1\\}^{n+m}}{z^TQ(\\phi)z}$\n"
   ]
  },
  {
   "cell_type": "markdown",
   "id": "45928cc3",
   "metadata": {},
   "source": [
    "# Example"
   ]
  },
  {
   "cell_type": "markdown",
   "id": "17c5a526",
   "metadata": {},
   "source": [
    "$CNF = (x_1 \\lor x_2 \\lor x_3) \\land (\\bar x_1 \\lor x_2 \\lor x_3) \\land (x_1 \\lor \\bar x_2 \\lor x_3) \\land (\\bar x_1 \\lor x_2 \\lor \\bar x_3)$"
   ]
  },
  {
   "cell_type": "markdown",
   "id": "bc7be722",
   "metadata": {},
   "source": [
    "\n",
    "$\n",
    "\\phi(x,w) = \n",
    "(1+w_1)(x_1+x_2+x_3) - x_1x_2 - x_1x_3 - x_2x_3 -2w_1 + \\\n",
    "(1+w_2)(1-x_1+x_2+x_3) -(1-x_1)x_2 - (1-x_1)x_3 - x_2x_3 - 2w_2 + \\\n",
    "(1+w_3)(x_1+1-x_2+x_3) - x_1(1-x_2) - x_1x_3 - (1-x_2)x_3 -2w_3 + \\\n",
    "(1+w_4)(1-x_1+x_2+1-x_3) - (1-x_1)x_2 - (1-x_1)(1-x_3) - x_2(1-x_3) - 2w_4\n",
    "$\n",
    "\n",
    "\n",
    "$\n",
    "\\phi(x,w) =\n",
    "0x_1 + 2x_1x_2 - 2x_1x_3 + x_1w_1 - x_1w_2 + x_1w_3 - x_1w_4 \n",
    "         - x_2 + 0x_2x_3 + x_2w_1 + x_2w_2 - x_2w_3 + x_2w_4\n",
    "               + x_3     + x_3w_1 + x_3w_2 + x_3w_3 - x_3w_4\n",
    "                         - 2w_1   \n",
    "                                  - w_2                         \n",
    "                                           - w_3\n",
    "                                                    - 0w_4\n",
    "+ 3\n",
    "$"
   ]
  },
  {
   "cell_type": "markdown",
   "id": "8898e4ec",
   "metadata": {},
   "source": [
    "$\\max\\limits_{z \\in \\{0,1\\}^{n+m}}{z^TQ(\\phi)z}$ + 3\n",
    "\n",
    "with \n",
    "\n",
    "$ Q(\\phi) =\n",
    "\\left(\\begin{array}{ccccccc} \n",
    " 0 &  2 & -2 &  1 & -1 &  1 & -1\\\\\n",
    " 0 & -1 &  0 &  1 &  1 & -1 &  1\\\\\n",
    " 0 &  0 &  1 &  1 &  1 &  1 & -1\\\\\n",
    " 0 &  0 &  0 & -2 &  0 &  0 &  0\\\\\n",
    " 0 &  0 &  0 &  0 & -1 &  0 &  0\\\\\n",
    " 0 &  0 &  0 &  0 &  0 & -1 &  0\\\\\n",
    " 0 &  0 &  0 &  0 &  0 &  0 &  0\\\\\n",
    "\\end{array}\\right)\n",
    "$ \n",
    "\n",
    "... or as minimization problem:\n",
    "\n",
    "$\\min\\limits_{z \\in \\{0,1\\}^{n+m}}{z^TQ(-\\phi)z}$\n",
    "\n",
    "with \n",
    "\n",
    "$ Q(- \\phi) =\n",
    "\\left(\\begin{array}{ccccccc} \n",
    " 0 & -2 &  2 & -1 &  1 & -1 &  1\\\\\n",
    " 0 &  1 &  0 & -1 & -1 &  1 & -1\\\\\n",
    " 0 &  0 & -1 & -1 & -1 & -1 &  1\\\\\n",
    " 0 &  0 &  0 &  2 &  0 &  0 &  0\\\\\n",
    " 0 &  0 &  0 &  0 &  1 &  0 &  0\\\\\n",
    " 0 &  0 &  0 &  0 &  0 &  1 &  0\\\\\n",
    " 0 &  0 &  0 &  0 &  0 &  0 &  0\\\\\n",
    "\\end{array}\\right)\n",
    "$ \n",
    "\n",
    "**Note:**\n",
    "\n",
    "The constant (+3) is omitted because it has no relevance"
   ]
  },
  {
   "cell_type": "code",
   "execution_count": null,
   "id": "7465563b",
   "metadata": {},
   "outputs": [],
   "source": []
  }
 ],
 "metadata": {
  "kernelspec": {
   "display_name": "Ocean",
   "language": "python",
   "name": "ocean"
  },
  "language_info": {
   "codemirror_mode": {
    "name": "ipython",
    "version": 3
   },
   "file_extension": ".py",
   "mimetype": "text/x-python",
   "name": "python",
   "nbconvert_exporter": "python",
   "pygments_lexer": "ipython3",
   "version": "3.9.15"
  }
 },
 "nbformat": 4,
 "nbformat_minor": 5
}
