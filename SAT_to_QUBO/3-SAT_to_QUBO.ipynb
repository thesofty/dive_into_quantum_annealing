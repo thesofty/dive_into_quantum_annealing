{
 "cells": [
  {
   "cell_type": "markdown",
   "id": "7ecd06dc",
   "metadata": {},
   "source": [
    "# 3-SAT to QUBO\n",
    "\n",
    "Just focussing on typical 3-SAT-problems in the conjunctive normal form (CNF), particulary 3CNF.\n",
    "\n",
    "Boolean variable: $ x \\in \\{0,1\\} = \\mathbb{Z}_2 $\n",
    "\n",
    "Literal $l$: $ x or \\bar x $\n",
    "\n",
    "Representation of not: $ \\bar x = 1 - x $\n",
    "\n",
    "\n",
    "Clause: $ C_i = l_{i1} \\lor l_{i2} \\lor l_{i3} $\n",
    "\n",
    "Boolean Formula: $ CNF = \\bigwedge\\limits_{i=1}^m C_i $\n",
    "\n",
    "$ \\Rightarrow $ 3m literals $l_{ij}$ are filled by n variables $x_1,...,x_n$ and their negations.\n",
    "\n",
    "With boolean vector: $x = [x_1,...,x_n] \\in \\{0,1\\}^n$\n",
    "$ \\Rightarrow CNF(x) = \\bigwedge\\limits_{i=1}^m (l_{i1} \\lor l_{i2} \\lor l_{i3})$;\n",
    "$m,n \\in \\mathbb{N} $; $l_{ij} \\in \\{x_1,...,x_n,\\bar{x}_1,...,\\bar{x}_n\\}$"
   ]
  },
  {
   "cell_type": "markdown",
   "id": "dc18e8fc",
   "metadata": {},
   "source": [
    "## Maximum 3-SAT Problem \n",
    "\n",
    "Find a combination of bits that maximizes the number of clauses being satisfied.\n",
    "\n",
    "With $\\bigwedge\\limits_{i=1}^m \\rightarrow \\sum\\limits_{i=1}^m$ \\\n",
    "formulate as objective function: \\\n",
    "$ \\phi(x) = \\sum\\limits_{i=1}^m (l_{i1} \\lor l_{i2} \\lor l_{i3})$;\n",
    "$l_{ij} \\in \\{x_1,...,x_n,\\bar{x}_1,...,\\bar{x}_n\\}$\n",
    "\n",
    "Formulation of the Problem: $\\max\\limits_{x \\in \\{0,1\\}^n}{\\phi(x)}$\n"
   ]
  },
  {
   "cell_type": "markdown",
   "id": "b6dcacb5",
   "metadata": {},
   "source": [
    "## Formulate as Cubic Optimization Problem\n",
    "\n",
    "Transform\n",
    "$C_i = (l_{i1} \\lor l_{i2} \\lor l_{i3})$\n",
    "into a cubic expression:\n",
    "\n",
    "$C_i = l_{i1} + l_{i2} + l_{i3} - l_{i1}l_{i2} - l_{i1}l_{i3} - l_{i2}l_{i3} + l_{i1}l_{i2}l_{i3}$\n",
    "\n",
    "\n",
    "$\n",
    " C_i =\n",
    "  \\begin{cases} \n",
    "      \\hfill 1    \\hfill & \\text{ if at least one literal is 1} \\\\\n",
    "      \\hfill 0 \\hfill & \\text{ if all literals are 0} \\\\\n",
    "  \\end{cases}\n",
    "$"
   ]
  },
  {
   "cell_type": "markdown",
   "id": "2473eec2",
   "metadata": {},
   "source": [
    "$\\phi(x) = \\sum\\limits_{i=1}^m C_i$; $\\max\\limits_{x \\in \\{0,1\\}^n}{\\phi(x)}$"
   ]
  },
  {
   "cell_type": "markdown",
   "id": "4bcab0bf",
   "metadata": {},
   "source": [
    "## From Cubic to Quadratic\n",
    "\n",
    "Using slack variables $w_i$:\n",
    "\n",
    "$l_{i1}l_{i2}l_{i3} = \\max\\limits_{w_i \\in \\{0,1\\}}{w_i(l_{i1} + l_{i2} + l_{i3} -2)}$\n",
    "\n",
    "$\\Rightarrow C_i = (1+w_i)(l_{i1} + l_{i2} + l_{i3}) - l_{i1}l_{i2} - l_{i1}l_{i3} - l_{i2}l_{i3} - 2w_i$\n",
    "\n",
    "For **each** $x \\in \\{0,1\\}^n$\n",
    "$\\Rightarrow \\phi(x) =\\max\\limits_{w \\in \\{0,1\\}^m}{\\sum\\limits_{i=1}^m ((1+w_i)(l_{i1} + l_{i2} + l_{i3}) - l_{i1}l_{i2} - l_{i1}l_{i3} - l_{i2}l_{i3} - 2w_i)}$\n",
    "\n",
    "and: $\\max\\limits_{x \\in \\{0,1\\}^n}{\\phi(x)}$\n",
    "\n",
    "\n",
    "### QUBO-Formulation\n",
    "\n",
    "$\\phi(x) \\rightarrow \\phi(x,w) = \\phi(z)$ with $ z = [x,w] \\in \\{0,1\\}^{n+m}$\n",
    "\n",
    "$\\max\\limits_{z \\in \\{0,1\\}^{n+m}}{\\phi(z)}$ or $\\max\\limits_{z \\in \\{0,1\\}^{n+m}}{z^TQ(\\phi)z}$\n"
   ]
  },
  {
   "cell_type": "markdown",
   "id": "45928cc3",
   "metadata": {},
   "source": [
    "# Example"
   ]
  },
  {
   "cell_type": "markdown",
   "id": "17c5a526",
   "metadata": {},
   "source": [
    "$CNF = (x_1 \\lor x_2 \\lor x_3) \\land (\\bar x_1 \\lor x_2 \\lor x_3) \\land (x_1 \\lor \\bar x_2 \\lor x_3) \\land (\\bar x_1 \\lor x_2 \\lor \\bar x_3)$"
   ]
  },
  {
   "cell_type": "markdown",
   "id": "b541ef0e",
   "metadata": {},
   "source": [
    "\n",
    "$\n",
    "\\phi(x,w) = \n",
    "(1+w_1)(x_1+x_2+x_3) - x_1x_2 - x_1x_3 - x_2x_3 -2w_1 + \\\n",
    "(1+w_2)(1-x_1+x_2+x_3) -(1-x_1)x_2 - (1-x_1)x_3 - x_2x_3 - 2w_2 + \\\n",
    "(1+w_3)(x_1+1-x_2+x_3) - x_1(1-x_2) - x_1x_3 - (1-x_2)x_3 -2w_3 + \\\n",
    "(1+w_4)(1-x_1+x_2+1-x_3) - (1-x_1)x_2 - (1-x_1)(1-x_3) - x_2(1-x_3) - 2w_4\n",
    "$\n",
    "\n",
    "\n",
    "$\n",
    "\\phi(x,w) =\n",
    "0x_1 + 2x_1x_2 - 2x_1x_3 + x_1w_1 - x_1w_2 + x_1w_3 - x_1w_4 \n",
    "         - x_2 + 0x_2x_3 + x_2w_1 + x_2w_2 - x_2w_3 + x_2w_4\n",
    "               + x_3     + x_3w_1 + x_3w_2 + x_3w_3 - x_3w_4\n",
    "                         - 2w_1   \n",
    "                                  - w_2                         \n",
    "                                           - w_3\n",
    "                                                    - 0w_4\n",
    "+ 3\n",
    "$"
   ]
  },
  {
   "cell_type": "markdown",
   "id": "18598fbb",
   "metadata": {},
   "source": [
    "$\\max\\limits_{z \\in \\{0,1\\}^{n+m}}{z^TQ(\\phi)z}$ + 3\n",
    "\n",
    "with \n",
    "\n",
    "$ Q(\\phi) =\n",
    "\\left(\\begin{array}{ccccccc} \n",
    " 0 &  2 & -2 &  1 & -1 &  1 & -1\\\\\n",
    " 0 & -1 &  0 &  1 &  1 & -1 &  1\\\\\n",
    " 0 &  0 &  1 &  1 &  1 &  1 & -1\\\\\n",
    " 0 &  0 &  0 & -2 &  0 &  0 &  0\\\\\n",
    " 0 &  0 &  0 &  0 & -1 &  0 &  0\\\\\n",
    " 0 &  0 &  0 &  0 &  0 & -1 &  0\\\\\n",
    " 0 &  0 &  0 &  0 &  0 &  0 &  0\\\\\n",
    "\\end{array}\\right)\n",
    "$ \n",
    "\n",
    "... or as minimization problem:\n",
    "\n",
    "$\\min\\limits_{z \\in \\{0,1\\}^{n+m}}{z^TQ(-\\phi)z}$\n",
    "\n",
    "with \n",
    "\n",
    "$ Q(- \\phi) =\n",
    "\\left(\\begin{array}{ccccccc} \n",
    " 0 & -2 &  2 & -1 &  1 & -1 &  1\\\\\n",
    " 0 &  1 &  0 & -1 & -1 &  1 & -1\\\\\n",
    " 0 &  0 & -1 & -1 & -1 & -1 &  1\\\\\n",
    " 0 &  0 &  0 &  2 &  0 &  0 &  0\\\\\n",
    " 0 &  0 &  0 &  0 &  1 &  0 &  0\\\\\n",
    " 0 &  0 &  0 &  0 &  0 &  1 &  0\\\\\n",
    " 0 &  0 &  0 &  0 &  0 &  0 &  0\\\\\n",
    "\\end{array}\\right)\n",
    "$ \n",
    "\n",
    "**Note:**\n",
    "\n",
    "The constant (+3) is omitted because it has no relevance"
   ]
  },
  {
   "cell_type": "code",
   "execution_count": 1,
   "id": "a326c743",
   "metadata": {},
   "outputs": [],
   "source": [
    "#Q = {('0', '1'): -2,('0', '2'): 2,('0', '3'): -1,('0', '4'): 1,('0', '5'): -1,('0', '6'): 1,\n",
    "#     ('1', '1'): 1,('1', '3'): -1,('1', '4'): -1,('1', '5'): 1,('1', '6'): -1,\n",
    "#     ('2', '2'): -1,('2', '3'): -1,('2', '4'): -1,('2', '5'): -1,('2', '6'): 1,\n",
    "#     ('3', '3'): 2,\n",
    "#     ('4', '4'): 1,\n",
    "#     ('5', '5'): 1,\n",
    "#     ('6', '6'): 0\n",
    "#    }\n",
    "\n",
    "Q = {('x1', 'x2'): -2,('x1', 'x3'): 2, ('x1', 'w1'): -1,('x1', 'w2'): 1, ('x1', 'w3'): -1,('x1', 'w4'): 1,\n",
    "     ('x2', 'x2'): 1, ('x2', 'w1'): -1,('x2', 'w2'): -1,('x2', 'w3'): 1, ('x2', 'w4'): -1,\n",
    "     ('x3', 'x3'): -1,('x3', 'w1'): -1,('x3', 'w2'): -1,('x3', 'w3'): -1,('x3', 'w4'): 1,\n",
    "     ('w1', 'w1'): 2,\n",
    "     ('w2', 'w2'): 1,\n",
    "     ('w3', 'w3'): 1,\n",
    "     ('w4', 'w4'): 0\n",
    "    }"
   ]
  },
  {
   "cell_type": "code",
   "execution_count": 2,
   "id": "586a51f9",
   "metadata": {},
   "outputs": [
    {
     "data": {
      "text/plain": [
       "{('x1', 'x2'): -2,\n",
       " ('x1', 'x3'): 2,\n",
       " ('x1', 'w1'): -1,\n",
       " ('x1', 'w2'): 1,\n",
       " ('x1', 'w3'): -1,\n",
       " ('x1', 'w4'): 1,\n",
       " ('x2', 'x2'): 1,\n",
       " ('x2', 'w1'): -1,\n",
       " ('x2', 'w2'): -1,\n",
       " ('x2', 'w3'): 1,\n",
       " ('x2', 'w4'): -1,\n",
       " ('x3', 'x3'): -1,\n",
       " ('x3', 'w1'): -1,\n",
       " ('x3', 'w2'): -1,\n",
       " ('x3', 'w3'): -1,\n",
       " ('x3', 'w4'): 1,\n",
       " ('w1', 'w1'): 2,\n",
       " ('w2', 'w2'): 1,\n",
       " ('w3', 'w3'): 1,\n",
       " ('w4', 'w4'): 0}"
      ]
     },
     "execution_count": 2,
     "metadata": {},
     "output_type": "execute_result"
    }
   ],
   "source": [
    "Q"
   ]
  },
  {
   "cell_type": "markdown",
   "id": "84f4d5db",
   "metadata": {},
   "source": [
    "## Solving QUBO Using Exact Solver"
   ]
  },
  {
   "cell_type": "code",
   "execution_count": 3,
   "id": "0a97a1ce",
   "metadata": {},
   "outputs": [],
   "source": [
    "import dimod\n",
    "\n",
    "exactsolver = dimod.ExactSolver()\n",
    "sasolver = dimod.SimulatedAnnealingSampler()\n",
    "\n",
    "sampleset = exactsolver.sample_qubo(Q)\n",
    "#sampleset = sasolver.sample_qubo(Q,num_reads=30,num_sweeps=2000)"
   ]
  },
  {
   "cell_type": "code",
   "execution_count": 4,
   "id": "bc1570d4",
   "metadata": {
    "scrolled": false
   },
   "outputs": [
    {
     "name": "stdout",
     "output_type": "stream",
     "text": [
      "    w1 w2 w3 w4 x1 x2 x3 energy num_oc.\n",
      "2    0  0  0  0  1  1  0   -1.0       1\n",
      "7    0  0  0  0  0  0  1   -1.0       1\n",
      "10   1  0  0  0  1  1  1   -1.0       1\n",
      "13   1  0  0  0  1  1  0   -1.0       1\n",
      "20   1  1  0  0  0  1  1   -1.0       1\n",
      "21   1  1  0  0  1  1  1   -1.0       1\n",
      "24   0  1  0  0  0  0  1   -1.0       1\n",
      "27   0  1  0  0  0  1  1   -1.0       1\n",
      "39   0  1  1  0  0  0  1   -1.0       1\n",
      "42   1  1  1  0  1  1  1   -1.0       1\n",
      "53   1  0  1  0  1  1  1   -1.0       1\n",
      "56   0  0  1  0  0  0  1   -1.0       1\n",
      "100  0  1  0  1  0  1  1   -1.0       1\n",
      "107  1  1  0  1  0  1  1   -1.0       1\n",
      "114  1  0  0  1  1  1  0   -1.0       1\n",
      "125  0  0  0  1  1  1  0   -1.0       1\n",
      "0    0  0  0  0  0  0  0    0.0       1\n",
      "1    0  0  0  0  1  0  0    0.0       1\n",
      "4    0  0  0  0  0  1  1    0.0       1\n",
      "5    0  0  0  0  1  1  1    0.0       1\n",
      "8    1  0  0  0  0  0  1    0.0       1\n",
      "11   1  0  0  0  0  1  1    0.0       1\n",
      "18   1  1  0  0  1  1  0    0.0       1\n",
      "23   1  1  0  0  0  0  1    0.0       1\n",
      "26   0  1  0  0  1  1  1    0.0       1\n",
      "29   0  1  0  0  1  1  0    0.0       1\n",
      "36   0  1  1  0  0  1  1    0.0       1\n",
      "37   0  1  1  0  1  1  1    0.0       1\n",
      "40   1  1  1  0  0  0  1    0.0       1\n",
      "43   1  1  1  0  0  1  1    0.0       1\n",
      "50   1  0  1  0  1  1  0    0.0       1\n",
      "54   1  0  1  0  1  0  1    0.0       1\n",
      "55   1  0  1  0  0  0  1    0.0       1\n",
      "57   0  0  1  0  1  0  1    0.0       1\n",
      "58   0  0  1  0  1  1  1    0.0       1\n",
      "61   0  0  1  0  1  1  0    0.0       1\n",
      "62   0  0  1  0  1  0  0    0.0       1\n",
      "66   0  0  1  1  1  1  0    0.0       1\n",
      "71   0  0  1  1  0  0  1    0.0       1\n",
      "74   1  0  1  1  1  1  1    0.0       1\n",
      "77   1  0  1  1  1  1  0    0.0       1\n",
      "84   1  1  1  1  0  1  1    0.0       1\n",
      "85   1  1  1  1  1  1  1    0.0       1\n",
      "88   0  1  1  1  0  0  1    0.0       1\n",
      "91   0  1  1  1  0  1  1    0.0       1\n",
      "98   0  1  0  1  1  1  0    0.0       1\n",
      "99   0  1  0  1  0  1  0    0.0       1\n",
      "103  0  1  0  1  0  0  1    0.0       1\n",
      "106  1  1  0  1  1  1  1    0.0       1\n",
      "109  1  1  0  1  1  1  0    0.0       1\n",
      "116  1  0  0  1  0  1  1    0.0       1\n",
      "117  1  0  0  1  1  1  1    0.0       1\n",
      "120  0  0  0  1  0  0  1    0.0       1\n",
      "123  0  0  0  1  0  1  1    0.0       1\n",
      "124  0  0  0  1  0  1  0    0.0       1\n",
      "127  0  0  0  1  0  0  0    0.0       1\n",
      "3    0  0  0  0  0  1  0    1.0       1\n",
      "6    0  0  0  0  1  0  1    1.0       1\n",
      "9    1  0  0  0  1  0  1    1.0       1\n",
      "14   1  0  0  0  1  0  0    1.0       1\n",
      "28   0  1  0  0  0  1  0    1.0       1\n",
      "31   0  1  0  0  0  0  0    1.0       1\n",
      "34   0  1  1  0  1  1  0    1.0       1\n",
      "38   0  1  1  0  1  0  1    1.0       1\n",
      "41   1  1  1  0  1  0  1    1.0       1\n",
      "45   1  1  1  0  1  1  0    1.0       1\n",
      "49   1  0  1  0  1  0  0    1.0       1\n",
      "52   1  0  1  0  0  1  1    1.0       1\n",
      "59   0  0  1  0  0  1  1    1.0       1\n",
      "63   0  0  1  0  0  0  0    1.0       1\n",
      "64   0  0  1  1  0  0  0    1.0       1\n",
      "65   0  0  1  1  1  0  0    1.0       1\n",
      "68   0  0  1  1  0  1  1    1.0       1\n",
      "69   0  0  1  1  1  1  1    1.0       1\n",
      "72   1  0  1  1  0  0  1    1.0       1\n",
      "75   1  0  1  1  0  1  1    1.0       1\n",
      "82   1  1  1  1  1  1  0    1.0       1\n",
      "87   1  1  1  1  0  0  1    1.0       1\n",
      "90   0  1  1  1  1  1  1    1.0       1\n",
      "93   0  1  1  1  1  1  0    1.0       1\n",
      "96   0  1  0  1  0  0  0    1.0       1\n",
      "101  0  1  0  1  1  1  1    1.0       1\n",
      "104  1  1  0  1  0  0  1    1.0       1\n",
      "108  1  1  0  1  0  1  0    1.0       1\n",
      "115  1  0  0  1  0  1  0    1.0       1\n",
      "119  1  0  0  1  0  0  1    1.0       1\n",
      "122  0  0  0  1  1  1  1    1.0       1\n",
      "126  0  0  0  1  1  0  0    1.0       1\n",
      "12   1  0  0  0  0  1  0    2.0       1\n",
      "15   1  0  0  0  0  0  0    2.0       1\n",
      "19   1  1  0  0  0  1  0    2.0       1\n",
      "22   1  1  0  0  1  0  1    2.0       1\n",
      "25   0  1  0  0  1  0  1    2.0       1\n",
      "30   0  1  0  0  1  0  0    2.0       1\n",
      "32   0  1  1  0  0  0  0    2.0       1\n",
      "33   0  1  1  0  1  0  0    2.0       1\n",
      "67   0  0  1  1  0  1  0    2.0       1\n",
      "70   0  0  1  1  1  0  1    2.0       1\n",
      "73   1  0  1  1  1  0  1    2.0       1\n",
      "78   1  0  1  1  1  0  0    2.0       1\n",
      "92   0  1  1  1  0  1  0    2.0       1\n",
      "95   0  1  1  1  0  0  0    2.0       1\n",
      "112  1  0  0  1  0  0  0    2.0       1\n",
      "113  1  0  0  1  1  0  0    2.0       1\n",
      "16   1  1  0  0  0  0  0    3.0       1\n",
      "17   1  1  0  0  1  0  0    3.0       1\n",
      "35   0  1  1  0  0  1  0    3.0       1\n",
      "46   1  1  1  0  1  0  0    3.0       1\n",
      "48   1  0  1  0  0  0  0    3.0       1\n",
      "60   0  0  1  0  0  1  0    3.0       1\n",
      "76   1  0  1  1  0  1  0    3.0       1\n",
      "79   1  0  1  1  0  0  0    3.0       1\n",
      "83   1  1  1  1  0  1  0    3.0       1\n",
      "86   1  1  1  1  1  0  1    3.0       1\n",
      "89   0  1  1  1  1  0  1    3.0       1\n",
      "94   0  1  1  1  1  0  0    3.0       1\n",
      "97   0  1  0  1  1  0  0    3.0       1\n",
      "111  1  1  0  1  0  0  0    3.0       1\n",
      "118  1  0  0  1  1  0  1    3.0       1\n",
      "121  0  0  0  1  1  0  1    3.0       1\n",
      "44   1  1  1  0  0  1  0    4.0       1\n",
      "47   1  1  1  0  0  0  0    4.0       1\n",
      "51   1  0  1  0  0  1  0    4.0       1\n",
      "80   1  1  1  1  0  0  0    4.0       1\n",
      "81   1  1  1  1  1  0  0    4.0       1\n",
      "102  0  1  0  1  1  0  1    4.0       1\n",
      "105  1  1  0  1  1  0  1    4.0       1\n",
      "110  1  1  0  1  1  0  0    4.0       1\n",
      "['BINARY', 128 rows, 128 samples, 7 variables]\n"
     ]
    }
   ],
   "source": [
    "print(sampleset)"
   ]
  },
  {
   "cell_type": "code",
   "execution_count": 5,
   "id": "681d285a",
   "metadata": {
    "scrolled": false
   },
   "outputs": [],
   "source": [
    "#sampleset"
   ]
  },
  {
   "cell_type": "code",
   "execution_count": 6,
   "id": "7139584a",
   "metadata": {},
   "outputs": [
    {
     "data": {
      "text/plain": [
       "dimod.sampleset.SampleSet"
      ]
     },
     "execution_count": 6,
     "metadata": {},
     "output_type": "execute_result"
    }
   ],
   "source": [
    "type(sampleset)"
   ]
  },
  {
   "cell_type": "code",
   "execution_count": 7,
   "id": "7d45dc53",
   "metadata": {},
   "outputs": [
    {
     "data": {
      "text/plain": [
       "array([ 0.,  0., -1.,  1.,  0.,  0.,  1., -1.,  0.,  1., -1.,  0.,  2.,\n",
       "       -1.,  1.,  2.,  3.,  3.,  0.,  2., -1., -1.,  2.,  0., -1.,  2.,\n",
       "        0., -1.,  1.,  0.,  2.,  1.,  2.,  2.,  1.,  3.,  0.,  0.,  1.,\n",
       "       -1.,  0.,  1., -1.,  0.,  4.,  1.,  3.,  4.,  3.,  1.,  0.,  4.,\n",
       "        1., -1.,  0.,  0., -1.,  0.,  0.,  1.,  3.,  0.,  0.,  1.,  1.,\n",
       "        1.,  0.,  2.,  1.,  1.,  2.,  0.,  1.,  2.,  0.,  1.,  3.,  0.,\n",
       "        2.,  3.,  4.,  4.,  1.,  3.,  0.,  0.,  3.,  1.,  0.,  3.,  1.,\n",
       "        0.,  2.,  1.,  3.,  2.,  1.,  3.,  0.,  0., -1.,  1.,  4.,  0.,\n",
       "        1.,  4.,  0., -1.,  1.,  0.,  4.,  3.,  2.,  2., -1.,  1.,  0.,\n",
       "        0.,  3.,  1.,  0.,  3.,  1.,  0.,  0., -1.,  1.,  0.])"
      ]
     },
     "execution_count": 7,
     "metadata": {},
     "output_type": "execute_result"
    }
   ],
   "source": [
    "sampleset.record.energy"
   ]
  },
  {
   "cell_type": "code",
   "execution_count": 8,
   "id": "8377b507",
   "metadata": {},
   "outputs": [
    {
     "data": {
      "text/plain": [
       "([0, 0, 0, 0, 1, 1, 0], -1., 1)"
      ]
     },
     "execution_count": 8,
     "metadata": {},
     "output_type": "execute_result"
    }
   ],
   "source": [
    "sampleset.record[2]"
   ]
  },
  {
   "cell_type": "code",
   "execution_count": 9,
   "id": "6cbacdf6",
   "metadata": {
    "scrolled": false
   },
   "outputs": [],
   "source": [
    "#sampleset.record\n",
    "#sampleset.data"
   ]
  },
  {
   "cell_type": "code",
   "execution_count": 10,
   "id": "e17cf57f",
   "metadata": {},
   "outputs": [],
   "source": [
    "#sampleset.filter(energy=-1)"
   ]
  },
  {
   "cell_type": "code",
   "execution_count": 11,
   "id": "7f88f0c9",
   "metadata": {},
   "outputs": [
    {
     "data": {
      "text/plain": [
       "Variables(['w1', 'w2', 'w3', 'w4', 'x1', 'x2', 'x3'])"
      ]
     },
     "execution_count": 11,
     "metadata": {},
     "output_type": "execute_result"
    }
   ],
   "source": [
    "sampleset.variables"
   ]
  },
  {
   "cell_type": "code",
   "execution_count": 12,
   "id": "68ebdd67",
   "metadata": {},
   "outputs": [
    {
     "data": {
      "text/plain": [
       "SampleSet(rec.array([([0, 0, 0, 0, 1, 1, 0], -1., 1),\n",
       "           ([0, 0, 0, 0, 0, 0, 1], -1., 1),\n",
       "           ([1, 0, 0, 0, 1, 1, 1], -1., 1),\n",
       "           ([1, 0, 0, 0, 1, 1, 0], -1., 1),\n",
       "           ([1, 1, 0, 0, 0, 1, 1], -1., 1),\n",
       "           ([1, 1, 0, 0, 1, 1, 1], -1., 1),\n",
       "           ([0, 1, 0, 0, 0, 0, 1], -1., 1),\n",
       "           ([0, 1, 0, 0, 0, 1, 1], -1., 1),\n",
       "           ([0, 1, 1, 0, 0, 0, 1], -1., 1),\n",
       "           ([1, 1, 1, 0, 1, 1, 1], -1., 1),\n",
       "           ([1, 0, 1, 0, 1, 1, 1], -1., 1),\n",
       "           ([0, 0, 1, 0, 0, 0, 1], -1., 1),\n",
       "           ([0, 1, 0, 1, 0, 1, 1], -1., 1),\n",
       "           ([1, 1, 0, 1, 0, 1, 1], -1., 1),\n",
       "           ([1, 0, 0, 1, 1, 1, 0], -1., 1),\n",
       "           ([0, 0, 0, 1, 1, 1, 0], -1., 1)],\n",
       "          dtype=[('sample', 'i1', (7,)), ('energy', '<f8'), ('num_occurrences', '<i8')]), Variables(['w1', 'w2', 'w3', 'w4', 'x1', 'x2', 'x3']), {}, 'BINARY')"
      ]
     },
     "execution_count": 12,
     "metadata": {},
     "output_type": "execute_result"
    }
   ],
   "source": [
    "sampleset.lowest()"
   ]
  },
  {
   "cell_type": "code",
   "execution_count": 13,
   "id": "66741819",
   "metadata": {},
   "outputs": [
    {
     "name": "stdout",
     "output_type": "stream",
     "text": [
      "   w1 w2 w3 w4 x1 x2 x3 energy num_oc.\n",
      "0   0  0  0  0  1  1  0   -1.0       1\n",
      "1   0  0  0  0  0  0  1   -1.0       1\n",
      "2   1  0  0  0  1  1  1   -1.0       1\n",
      "3   1  0  0  0  1  1  0   -1.0       1\n",
      "4   1  1  0  0  0  1  1   -1.0       1\n",
      "5   1  1  0  0  1  1  1   -1.0       1\n",
      "6   0  1  0  0  0  0  1   -1.0       1\n",
      "7   0  1  0  0  0  1  1   -1.0       1\n",
      "8   0  1  1  0  0  0  1   -1.0       1\n",
      "9   1  1  1  0  1  1  1   -1.0       1\n",
      "10  1  0  1  0  1  1  1   -1.0       1\n",
      "11  0  0  1  0  0  0  1   -1.0       1\n",
      "12  0  1  0  1  0  1  1   -1.0       1\n",
      "13  1  1  0  1  0  1  1   -1.0       1\n",
      "14  1  0  0  1  1  1  0   -1.0       1\n",
      "15  0  0  0  1  1  1  0   -1.0       1\n",
      "['BINARY', 16 rows, 16 samples, 7 variables]\n"
     ]
    }
   ],
   "source": [
    "print(sampleset.lowest())"
   ]
  },
  {
   "cell_type": "code",
   "execution_count": 14,
   "id": "816cf88b",
   "metadata": {
    "scrolled": false
   },
   "outputs": [
    {
     "name": "stdout",
     "output_type": "stream",
     "text": [
      "{'w1': 0, 'w2': 0, 'w3': 0, 'w4': 0, 'x1': 1, 'x2': 1, 'x3': 0} energy = -1.0\n",
      "{'w1': 0, 'w2': 0, 'w3': 0, 'w4': 0, 'x1': 0, 'x2': 0, 'x3': 1} energy = -1.0\n",
      "{'w1': 1, 'w2': 0, 'w3': 0, 'w4': 0, 'x1': 1, 'x2': 1, 'x3': 1} energy = -1.0\n",
      "{'w1': 1, 'w2': 0, 'w3': 0, 'w4': 0, 'x1': 1, 'x2': 1, 'x3': 0} energy = -1.0\n",
      "{'w1': 1, 'w2': 1, 'w3': 0, 'w4': 0, 'x1': 0, 'x2': 1, 'x3': 1} energy = -1.0\n",
      "{'w1': 1, 'w2': 1, 'w3': 0, 'w4': 0, 'x1': 1, 'x2': 1, 'x3': 1} energy = -1.0\n",
      "{'w1': 0, 'w2': 1, 'w3': 0, 'w4': 0, 'x1': 0, 'x2': 0, 'x3': 1} energy = -1.0\n",
      "{'w1': 0, 'w2': 1, 'w3': 0, 'w4': 0, 'x1': 0, 'x2': 1, 'x3': 1} energy = -1.0\n",
      "{'w1': 0, 'w2': 1, 'w3': 1, 'w4': 0, 'x1': 0, 'x2': 0, 'x3': 1} energy = -1.0\n",
      "{'w1': 1, 'w2': 1, 'w3': 1, 'w4': 0, 'x1': 1, 'x2': 1, 'x3': 1} energy = -1.0\n",
      "{'w1': 1, 'w2': 0, 'w3': 1, 'w4': 0, 'x1': 1, 'x2': 1, 'x3': 1} energy = -1.0\n",
      "{'w1': 0, 'w2': 0, 'w3': 1, 'w4': 0, 'x1': 0, 'x2': 0, 'x3': 1} energy = -1.0\n",
      "{'w1': 0, 'w2': 1, 'w3': 0, 'w4': 1, 'x1': 0, 'x2': 1, 'x3': 1} energy = -1.0\n",
      "{'w1': 1, 'w2': 1, 'w3': 0, 'w4': 1, 'x1': 0, 'x2': 1, 'x3': 1} energy = -1.0\n",
      "{'w1': 1, 'w2': 0, 'w3': 0, 'w4': 1, 'x1': 1, 'x2': 1, 'x3': 0} energy = -1.0\n",
      "{'w1': 0, 'w2': 0, 'w3': 0, 'w4': 1, 'x1': 1, 'x2': 1, 'x3': 0} energy = -1.0\n"
     ]
    }
   ],
   "source": [
    "for sample,energy in sampleset.lowest().data(fields=['sample','energy'], sorted_by='energy'):\n",
    "    print(sample,\"energy =\",energy)"
   ]
  },
  {
   "cell_type": "code",
   "execution_count": 15,
   "id": "c5b965d3",
   "metadata": {},
   "outputs": [
    {
     "data": {
      "text/plain": [
       "<generator object SampleSet.data at 0x7f94bab85c80>"
      ]
     },
     "execution_count": 15,
     "metadata": {},
     "output_type": "execute_result"
    }
   ],
   "source": [
    "sampleset.lowest().data(sample)"
   ]
  },
  {
   "cell_type": "markdown",
   "id": "36fdb50a",
   "metadata": {},
   "source": [
    "## D-Wave Quantum Annelaer (Quantum)"
   ]
  },
  {
   "cell_type": "code",
   "execution_count": 16,
   "id": "a63bd644",
   "metadata": {},
   "outputs": [],
   "source": [
    "from dwave.system import DWaveSampler, EmbeddingComposite\n",
    "sampler = EmbeddingComposite(DWaveSampler())"
   ]
  },
  {
   "cell_type": "code",
   "execution_count": 17,
   "id": "fb2d30d7",
   "metadata": {},
   "outputs": [],
   "source": [
    "label = '3-SAT_QUBO_sample'\n",
    "resultset = sampler.sample_qubo(Q,label=label)"
   ]
  },
  {
   "cell_type": "code",
   "execution_count": 18,
   "id": "d21d8c62",
   "metadata": {},
   "outputs": [
    {
     "data": {
      "text/plain": [
       "SampleSet(rec.array([([0, 0, 0, 0, 1, 1, 0], -1., 1, 0.)],\n",
       "          dtype=[('sample', 'i1', (7,)), ('energy', '<f8'), ('num_occurrences', '<i8'), ('chain_break_fraction', '<f8')]), Variables(['w1', 'w2', 'w3', 'w4', 'x1', 'x2', 'x3']), {'timing': {'qpu_sampling_time': 111.2, 'qpu_anneal_time_per_sample': 20.0, 'qpu_readout_time_per_sample': 70.66, 'qpu_access_time': 15888.77, 'qpu_access_overhead_time': 0.0, 'qpu_programming_time': 15777.57, 'qpu_delay_time_per_sample': 20.54, 'total_post_processing_time': 185.0, 'post_processing_overhead_time': 185.0}, 'problem_id': '345cce46-6b40-4a9a-9060-e542ec81d12e', 'problem_label': '3-SAT_QUBO_sample'}, 'BINARY')"
      ]
     },
     "execution_count": 18,
     "metadata": {},
     "output_type": "execute_result"
    }
   ],
   "source": [
    "resultset"
   ]
  },
  {
   "cell_type": "code",
   "execution_count": 19,
   "id": "6d5e5f56",
   "metadata": {},
   "outputs": [
    {
     "name": "stdout",
     "output_type": "stream",
     "text": [
      "{'w1': 0, 'w2': 0, 'w3': 0, 'w4': 0, 'x1': 1, 'x2': 1, 'x3': 0} energy = -1.0\n"
     ]
    }
   ],
   "source": [
    "for sample,energy in resultset.lowest().data(fields=['sample','energy'], sorted_by='energy'):\n",
    "    print(sample,\"energy =\",energy)"
   ]
  },
  {
   "cell_type": "code",
   "execution_count": null,
   "id": "1d5b8354",
   "metadata": {},
   "outputs": [],
   "source": []
  }
 ],
 "metadata": {
  "kernelspec": {
   "display_name": "Ocean",
   "language": "python",
   "name": "ocean"
  },
  "language_info": {
   "codemirror_mode": {
    "name": "ipython",
    "version": 3
   },
   "file_extension": ".py",
   "mimetype": "text/x-python",
   "name": "python",
   "nbconvert_exporter": "python",
   "pygments_lexer": "ipython3",
   "version": "3.9.15"
  }
 },
 "nbformat": 4,
 "nbformat_minor": 5
}
